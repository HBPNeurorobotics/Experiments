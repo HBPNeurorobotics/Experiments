{
 "cells": [
  {
   "cell_type": "code",
   "execution_count": null,
   "metadata": {},
   "outputs": [],
   "source": [
    "import time\n",
    "import os\n",
    "from shutil import copyfile\n",
    "import logging\n",
    "from hbp_nrp_virtual_coach.virtual_coach import VirtualCoach\n",
    "vc = VirtualCoach(environment='local')"
   ]
  },
  {
   "cell_type": "markdown",
   "metadata": {},
   "source": [
    "## A transfer function to display the trial number in the frontend"
   ]
  },
  {
   "cell_type": "code",
   "execution_count": null,
   "metadata": {
    "collapsed": true
   },
   "outputs": [],
   "source": [
    "display_trial_tf = \"\"\"@nrp.Robot2Neuron()\n",
    "def display_trial_number(t):\n",
    "    clientLogger.advertise('%s')\n",
    "\"\"\""
   ]
  },
  {
   "cell_type": "markdown",
   "metadata": {},
   "source": [
    "## Define the number of runs and how long each simulation should run for"
   ]
  },
  {
   "cell_type": "code",
   "execution_count": null,
   "metadata": {
    "collapsed": true
   },
   "outputs": [],
   "source": [
    "simulation_time = 10 # seconds\n",
    "src = os.environ['HBP'] + '/Experiments/cdp1_mouse/nnStructures/generatedStructures/'\n",
    "des = os.environ['HBP'] + '/Experiments/cdp1_mouse/nnStructures/'\n",
    "# list of all files in the generatedStructures directory\n",
    "nn_structures = os.listdir(src)\n",
    "#runs = len(nn_structures) # number of trials"
   ]
  },
  {
   "cell_type": "code",
   "execution_count": null,
   "metadata": {
    "collapsed": true
   },
   "outputs": [],
   "source": [
    "class cdp1Experiment(object):\n",
    "    \n",
    "    def __init__(self, runs, simulation_time):\n",
    "        self.last_status = [None]\n",
    "        self.runs = nn_structures\n",
    "        self.simulation_time = simulation_time\n",
    "        self.sled_position = []\n",
    "\n",
    "        # disable global logging from the virtual coach\n",
    "        logging.disable(logging.INFO)\n",
    "        logging.getLogger('rospy').propagate = False\n",
    "        logging.getLogger('rosout').propagate = False\n",
    "\n",
    "    def wait_condition(self, timeout, condition):\n",
    "        start = time.time()\n",
    "        while time.time() < start + timeout:\n",
    "            time.sleep(0.25)\n",
    "            if condition(self.last_status[0]):\n",
    "                return\n",
    "        raise Exception('Condition check failed')        \n",
    "\n",
    "    def on_status(self, status):\n",
    "        self.last_status[0] = status\n",
    "\n",
    "    def run_experiment(self):\n",
    "        for i in range(len(self.runs)):\n",
    "            # copy neural network structure file\n",
    "            copyfile(src + self.runs[i], des + 'closedLoopMouse.txt')\n",
    "\n",
    "            # launch experiment\n",
    "            try:\n",
    "                self.sim = vc.launch_experiment('ExDMouseCDP1')\n",
    "            except:\n",
    "                time.sleep(1)\n",
    "            time.sleep(20)\n",
    "            \n",
    "            self.sim.register_status_callback(self.on_status)\n",
    "            self.wait_condition(10, lambda x: x is not None)\n",
    "            self.sim.add_transfer_function(display_trial_tf % \"Trial {}\".format(i + 1))\n",
    "\n",
    "            # start the experiment\n",
    "            self.sim.start()\n",
    "            # wait until the desired simulation time is reached\n",
    "            self.wait_condition(1000, lambda x: x['simulationTime'] == self.simulation_time)\n",
    "            self.sim.pause()\n",
    "            # save the sled positions to compare later \n",
    "            self.sled_position.append(self.sim.get_csv_data('all_joints_positions.csv'))\n",
    "            self.sim.stop()\n",
    "            time.sleep(20)"
   ]
  },
  {
   "cell_type": "markdown",
   "metadata": {},
   "source": [
    "## Run the experiment"
   ]
  },
  {
   "cell_type": "code",
   "execution_count": null,
   "metadata": {
    "collapsed": true
   },
   "outputs": [],
   "source": [
    "cdp1_experiment = cdp1Experiment(nn_structures, simulation_time)\n",
    "cdp1_experiment.run_experiment()"
   ]
  },
  {
   "cell_type": "markdown",
   "metadata": {},
   "source": [
    "## Plot the sled position for each run"
   ]
  },
  {
   "cell_type": "code",
   "execution_count": null,
   "metadata": {
    "scrolled": false
   },
   "outputs": [],
   "source": [
    "%matplotlib inline\n",
    "import matplotlib.pyplot as plt\n",
    "from cycler import cycler\n",
    "width = 8\n",
    "height = 8\n",
    "plt.figure(figsize=(width, height))\n",
    "for j in range(len(cdp1_experiment.sled_position)):\n",
    "    sled = [item[1:] for item in cdp1_experiment.sled_position[j] if item[0] == 'cdp1_msled::world_sled']\n",
    "    plt.rc('axes', prop_cycle=(cycler('color', ['#75bbfd', '#029386', '#9a0eea', '#f10c45', '#cdc50a', '#343837', '#7ebd01', '#3c0008', '#c8aca9', '#030764'])))\n",
    "    plt.xlabel('Time [s]')\n",
    "    #plt.xlim(0, 10)\n",
    "    plt.ylabel('Sled position [m]')\n",
    "    plt.legend(loc=1)\n",
    "    plt.plot([float(i[0]) for i in sled], [float(i[1]) for i in sled])"
   ]
  }
 ],
 "metadata": {
  "kernelspec": {
   "display_name": "Python 2",
   "language": "python",
   "name": "python2"
  },
  "language_info": {
   "codemirror_mode": {
    "name": "ipython",
    "version": 2
   },
   "file_extension": ".py",
   "mimetype": "text/x-python",
   "name": "python",
   "nbconvert_exporter": "python",
   "pygments_lexer": "ipython2",
   "version": "2.7.12"
  }
 },
 "nbformat": 4,
 "nbformat_minor": 2
}
