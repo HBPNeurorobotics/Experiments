{
 "cells": [
  {
   "cell_type": "markdown",
   "metadata": {},
   "source": [
    "# NRP Tutorial: Baseball experiment solution\n",
    "\n",
    "In this experiment folder, you will find the state machine and the transfer functions to solve the tutorial baseball experiment.\n",
    "This notebook only contains the solution for the second part of the exercise, the offline analysis with the virtual coach.\n",
    "\n",
    "# Exercise 2: Offline analysis and optimization with virtual coach"
   ]
  },
  {
   "cell_type": "code",
   "execution_count": null,
   "metadata": {},
   "outputs": [],
   "source": [
    "# disable global logging from the virtual coach\n",
    "import logging\n",
    "logging.disable(logging.INFO)\n",
    "logging.getLogger('rospy').propagate = False\n",
    "logging.getLogger('rosout').propagate = False"
   ]
  },
  {
   "cell_type": "code",
   "execution_count": null,
   "metadata": {},
   "outputs": [],
   "source": [
    "# log into the virtual coach, update with your credentials\n",
    "try:\n",
    "    from hbp_nrp_virtual_coach.virtual_coach import VirtualCoach\n",
    "    vc = VirtualCoach(environment='local', storage_username='nrpuser')\n",
    "except ImportError as e:\n",
    "    print(e)\n",
    "    print(\"You have to start this notebook with the command:\\\n",
    "          cle-virtual-coach jupyter notebook\")\n",
    "    raise e"
   ]
  },
  {
   "cell_type": "markdown",
   "metadata": {},
   "source": [
    "## First steps with the Virtual Coach\n",
    "\n",
    "We need to check if the Baseball Experiment exists in your local storage server. This call will print all your cloned experiments."
   ]
  },
  {
   "cell_type": "code",
   "execution_count": null,
   "metadata": {
    "scrolled": true
   },
   "outputs": [],
   "source": [
    "vc.print_cloned_experiments()"
   ]
  },
  {
   "cell_type": "markdown",
   "metadata": {},
   "source": [
    "If the \"tutorial_baseball_solution_0\" doesn't show up in this list, we'll have to clone the experiment first."
   ]
  },
  {
   "cell_type": "code",
   "execution_count": null,
   "metadata": {},
   "outputs": [],
   "source": [
    "vc.clone_experiment_to_storage('ExDTutorialBaseballSolution')"
   ]
  },
  {
   "cell_type": "markdown",
   "metadata": {},
   "source": [
    "The virtual coach launch experiments return a well-documented simulation object with which you can interact:"
   ]
  },
  {
   "cell_type": "code",
   "execution_count": null,
   "metadata": {},
   "outputs": [],
   "source": [
    "sim = vc.launch_experiment('tutorial_baseball_solution_0')"
   ]
  },
  {
   "cell_type": "code",
   "execution_count": null,
   "metadata": {},
   "outputs": [],
   "source": [
    "methods = [method for method in dir(sim) if not method.startswith('_')]\n",
    "print('Available method on the simulation object:\\n{}'.format('\\n'.join(methods)))"
   ]
  },
  {
   "cell_type": "code",
   "execution_count": null,
   "metadata": {},
   "outputs": [],
   "source": [
    "sim.register_status_callback?"
   ]
  },
  {
   "cell_type": "markdown",
   "metadata": {},
   "source": [
    "If you have the frontend running, you can see that there is a running instance of this experiment if you click on it.\n",
    "You can stop the experiment either with the frontend or with the virtual coach:"
   ]
  },
  {
   "cell_type": "code",
   "execution_count": null,
   "metadata": {},
   "outputs": [],
   "source": [
    "sim.stop()"
   ]
  },
  {
   "cell_type": "markdown",
   "metadata": {},
   "source": [
    "## Visualization and optimization\n",
    "\n",
    "In the coming cells, you will have to use the virtual coach to optimize a metric by running the expriments multiple times.\n",
    "\n",
    "Specifically, we will try to find the best synaptic weight between the input and the output populations.\n",
    "The objective we try to maximize is the absolute **x** position of the ball (the ball is fired in the negative **x** direction, c.f. the StateMachine).\n",
    "\n",
    "For this purpose we need:\n",
    "1. the brain to be parametrizable\n",
    "2. a way to access data from the experiment (the ball position)"
   ]
  },
  {
   "cell_type": "markdown",
   "metadata": {},
   "source": [
    "### The brain\n",
    "\n",
    "Here is the brain file from the **tutorial_baseball_exercise**. Note that the synaptic weight is replaced with the template parameter **{syn_weight}**:"
   ]
  },
  {
   "cell_type": "code",
   "execution_count": null,
   "metadata": {},
   "outputs": [],
   "source": [
    "brain_template = '''\n",
    "# -*- coding: utf-8 -*-\n",
    "\"\"\"\n",
    "Tutorial brain for the baseball experiment\n",
    "\"\"\"\n",
    "\n",
    "# pragma: no cover\n",
    "__author__ = 'Jacques Kaiser'\n",
    "\n",
    "from hbp_nrp_cle.brainsim import simulator as sim\n",
    "import numpy as np\n",
    "\n",
    "n_sensors = 20\n",
    "n_motors = 1\n",
    "\n",
    "sensors = sim.Population(n_sensors, cellclass=sim.IF_curr_exp())\n",
    "motors = sim.Population(n_motors, cellclass=sim.IF_curr_exp())\n",
    "sim.Projection(sensors, motors, sim.AllToAllConnector(),\n",
    "               sim.StaticSynapse(weight={syn_weight}))\n",
    "'''"
   ]
  },
  {
   "cell_type": "markdown",
   "metadata": {},
   "source": [
    "### The (additional) transfer function\n",
    "\n",
    "To record data from the experiment, we add a special type of transfer functions: **MapCSVRecorder**..\n",
    "You could also add this transfer functions as a python file in the **Experiments/my_first_experiment** folder and reference it in the **.bibi**, the results would be identical."
   ]
  },
  {
   "cell_type": "code",
   "execution_count": null,
   "metadata": {},
   "outputs": [],
   "source": [
    "record_ball_tf = \\\n",
    "'''\n",
    "# Imported Python Transfer Function\n",
    "import numpy as np\n",
    "import sensor_msgs.msg\n",
    "\n",
    "@nrp.MapCSVRecorder(\"ball_recorder\", filename=\"ball_position.csv\",\n",
    "                    headers=[\"Time\", \"px\", \"py\", \"pz\"])\n",
    "@nrp.Robot2Neuron()\n",
    "def record_ball_csv(t, ball_recorder):\n",
    "    from rospy import ServiceProxy\n",
    "    from gazebo_msgs.srv import GetModelState\n",
    "\n",
    "    model_name = 'ball'\n",
    "    state_proxy = ServiceProxy('/gazebo/get_model_state',\n",
    "                                    GetModelState, persistent=False)\n",
    "    ball_state = state_proxy(model_name, \"world\")\n",
    "\n",
    "    if ball_state.success:\n",
    "        current_position = ball_state.pose.position\n",
    "        ball_recorder.record_entry(t,\n",
    "                                   current_position.x, \n",
    "                                   current_position.y, \n",
    "                                   current_position.z)\n",
    "'''"
   ]
  },
  {
   "cell_type": "markdown",
   "metadata": {},
   "source": [
    "## Running the experiment with default synaptic weight\n",
    "\n",
    "Run the experiment with the default synaptic weight, and save the resulting CSV file"
   ]
  },
  {
   "cell_type": "code",
   "execution_count": null,
   "metadata": {},
   "outputs": [],
   "source": [
    "import csv\n",
    "import tempfile\n",
    "import time\n",
    "import os\n",
    "\n",
    "# this name has to match the name passed in the CSV transfer function\n",
    "csv_name = 'ball_position.csv'\n",
    "    \n",
    "def save_position_csv(sim, datadir):\n",
    "    with open(os.path.join(datadir, csv_name), 'wb') as f:\n",
    "        cf = csv.writer(f)\n",
    "        #################################################\n",
    "        # Insert code here:\n",
    "        # get the CSV data from the simulation\n",
    "        #################################################\n",
    "        csv_data = sim.get_csv_data(csv_name) #solution\n",
    "        cf.writerows(csv_data)\n",
    "    \n",
    "# The function make_on_status() returns a on_status() function\n",
    "# This is called a \"closure\": \n",
    "# it is here used to pass the sim and datadir objects to on_status()\n",
    "def make_on_status(sim, datadir):\n",
    "    def on_status(msg):\n",
    "        print(\"Current simulation time: {}\".format(msg['simulationTime']))\n",
    "        if msg['simulationTime'] == 5.0 and sim.get_state() == 'started':\n",
    "            #################################################\n",
    "            # Insert code here:\n",
    "            # 1) pause the simulation, \n",
    "            # 2) save the CSV file\n",
    "            # 3) stop the simulation \n",
    "            #################################################\n",
    "            sim.pause()  #solution\n",
    "            save_position_csv(sim, datadir)\n",
    "            sim.stop() #solution\n",
    "            print(\"Trial terminated - saved CSV in {}\".format(datadir))\n",
    "            \n",
    "    return on_status\n",
    "        \n",
    "def run_experiment(datadir, brain_params={'syn_weight': 1.0}):\n",
    "    #################################################\n",
    "    # Insert code here:\n",
    "    # 1) launch the experiment\n",
    "    # 2) add the status callback\n",
    "    # 3) add the parametrized brain file\n",
    "    # 4) add the extra CSV TF\n",
    "    # 5) start the simulation\n",
    "    #################################################\n",
    "    brain_file = brain_template.format(**brain_params)\n",
    "    \n",
    "    sim = vc.launch_experiment('tutorial_baseball_solution_0') #solution\n",
    "    sim.register_status_callback(make_on_status(sim, datadir)) #solution\n",
    "    sim.add_transfer_function(record_ball_tf) #solution\n",
    "    sim.edit_brain(brain_file) #solution\n",
    "    sim.start()\n",
    "    return sim\n",
    "    \n",
    "tmp_folder = tempfile.mkdtemp()\n",
    "sim=run_experiment(datadir=tmp_folder)"
   ]
  },
  {
   "cell_type": "markdown",
   "metadata": {},
   "source": [
    "If everything went fine, the csv data got saved to a **tempdir** in your **/tmp/**:"
   ]
  },
  {
   "cell_type": "code",
   "execution_count": null,
   "metadata": {},
   "outputs": [],
   "source": [
    "csv_file = os.path.join(tmp_folder, csv_name)\n",
    "print(\"Recorded the following csv file: {}\".format(csv_file))"
   ]
  },
  {
   "cell_type": "markdown",
   "metadata": {},
   "source": [
    "## Plotting the CSV data\n",
    "\n",
    "Let's use [pandas](http://pandas.pydata.org/) to read the csv files, create dataframes and plot them.\n",
    "You will need to install pandas:\n",
    "\n",
    "```bash\n",
    "pip install pandas\n",
    "```\n",
    "\n",
    "Let's read the csv files with pandas:"
   ]
  },
  {
   "cell_type": "code",
   "execution_count": null,
   "metadata": {},
   "outputs": [],
   "source": [
    "import pandas\n",
    "ball_csv = pandas.read_csv(csv_file)\n",
    "ball_csv"
   ]
  },
  {
   "cell_type": "code",
   "execution_count": null,
   "metadata": {},
   "outputs": [],
   "source": [
    "%matplotlib inline\n",
    "ball_csv=ball_csv.set_index('Time')\n",
    "ball_csv.plot()"
   ]
  },
  {
   "cell_type": "markdown",
   "metadata": {},
   "source": [
    "You can see that ball position is initially high when the ball is created, it then decreases until it hits the robot."
   ]
  },
  {
   "cell_type": "markdown",
   "metadata": {},
   "source": [
    "## Optimizing the synaptic weight\n",
    "\n",
    "We define the objective function as being the accumulated **x** position. Let's run many trials with different synaptic weights and see the evolution of accumulated **x** position. For example, with this current trial of synaptic weight 1.0, the accumulated **x** is:"
   ]
  },
  {
   "cell_type": "code",
   "execution_count": null,
   "metadata": {},
   "outputs": [],
   "source": [
    "ball_csv.px.sum()"
   ]
  },
  {
   "cell_type": "markdown",
   "metadata": {},
   "source": [
    "Run the experiment again with different synaptic weights and plot the results."
   ]
  },
  {
   "cell_type": "code",
   "execution_count": null,
   "metadata": {
    "scrolled": false
   },
   "outputs": [],
   "source": [
    "import numpy as np\n",
    "import time\n",
    "\n",
    "n_trials =  10\n",
    "trial_weights = np.linspace(0., 1.5, n_trials)\n",
    "trial_ball_csv = [tempfile.mkdtemp() for i in range(n_trials)]\n",
    "#################################################\n",
    "# Insert code here:\n",
    "# 1) run the experiments with all the trial_weights\n",
    "# 2) compute the fitness of each trial\n",
    "# 3) plot your results\n",
    "#################################################\n",
    "weight_costs = []\n",
    "for i in range(n_trials):\n",
    "    run_experiment(trial_ball_csv[i], brain_params={'syn_weight': trial_weights[i]})\n",
    "    csv_file = os.path.join(trial_ball_csv[i], csv_name)\n",
    "    while not os.path.isfile(csv_file):\n",
    "        time.sleep(1)\n",
    "    ball_csv = pandas.read_csv(csv_file)\n",
    "    weight_costs.append(ball_csv.px.sum())\n",
    "    time.sleep(10)\n",
    "\n",
    "weight_costs_df = pandas.DataFrame({\n",
    "    'Weight': pandas.Series(trial_weights),\n",
    "    'Cost': pandas.Series(weight_costs)\n",
    "})\n",
    "weight_costs_df.set_index('Weight').plot()"
   ]
  }
 ],
 "metadata": {
  "kernelspec": {
   "display_name": "Python 2",
   "language": "python",
   "name": "python2"
  },
  "language_info": {
   "codemirror_mode": {
    "name": "ipython",
    "version": 2
   },
   "file_extension": ".py",
   "mimetype": "text/x-python",
   "name": "python",
   "nbconvert_exporter": "python",
   "pygments_lexer": "ipython2",
   "version": "2.7.12"
  }
 },
 "nbformat": 4,
 "nbformat_minor": 2
}
