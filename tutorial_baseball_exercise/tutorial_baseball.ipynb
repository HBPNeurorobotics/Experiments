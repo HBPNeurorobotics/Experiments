{
 "cells": [
  {
   "cell_type": "markdown",
   "metadata": {},
   "source": [
    "# NRP Tutorial: Baseball experiment\n",
    "\n",
    "Welcome to this turorial. By following this notebook step by step, you will have fun and learn how to work with the Neurorobotics Platform.\n",
    "\n",
    "The following notebook will guide you through setting up an experiment interactively, and perform data analysis and optimization offline afterwards. The experiment we will develop is inspired from the video with the baby learning to play ping pong."
   ]
  },
  {
   "cell_type": "code",
   "execution_count": null,
   "metadata": {
    "scrolled": true
   },
   "outputs": [],
   "source": [
    "%autosave 0\n",
    "from IPython.display import YouTubeVideo\n",
    "YouTubeVideo(\"1n5uFGk2pnc\")"
   ]
  },
  {
   "cell_type": "markdown",
   "metadata": {},
   "source": [
    "# Getting Started\n",
    "\n",
    "Please visit this tutorials's manualpage at https://developer.humanbrainproject.eu/docs/projects/HBP%20Neurorobotics%20Platform/1.2/nrp/tutorials/baseball/index.html"
   ]
  },
  {
   "cell_type": "markdown",
   "metadata": {},
   "source": [
    "# Exercise 1: Setting up the experiment interactively\n",
    "\n",
    "Start the NRP with the following commands:\n",
    "```shell\n",
    "cle-nginx\n",
    "cle-start\n",
    "cle-frontend\n",
    "```\n",
    "and clone and launch the experiment **Tutorial baseball experiment - Exercise**.\n",
    "\n",
    "The experiment contains an iCub Robot in an empty world. Click the play button, nothing happens.\n",
    "We will now implement the components one by one to have our iCub playing baseball controlled by a spiking neural network.\n",
    "\n",
    "## Graphical settings - tune your rendering quality \n",
    "\n",
    "Open the **graphical settings** editor. In **Quality**, try setting antialiasing and shadows and see if this does not harm performance on your computer.\n",
    "In **Environment**, test some skies and keep the one you like.\n",
    "\n",
    "## Brain editor - Read how the brain is defined \n",
    "\n",
    "The PyNN script you read defines neuron populations.\n",
    "In this experiment, the brain has 21 neurons and 2 populations. Population **sensors** defines sensory neurons, population **motors** motor neurons.\n",
    "\n",
    "Open the **brain visualizer** to display your brain in 3D. Note that neuron positions are dynamically defined.\n",
    "\n",
    "Try to change n_sensors to 5000, apply and see the changes in **brain visualizer**.\n",
    "Change it back to 20 and apply.\n",
    "\n",
    "## State Machine editor - Throwing balls\n",
    "\n",
    "The first step is to have a ball throwing machine. Since this concerns purely the environment and not the robot, we implement this in a **state machine**.\n",
    "\n",
    "Open the **NRP editors** (pen button in the toolbar), and select the **State Machine (SMACH)** tab.\n",
    "Two **States** are defined: one to spawn a new ball, the other to remove the ball when it falls beyond a certain height.\n",
    "\n",
    "Complete the code where you find the comments\n",
    "```py\n",
    "#################################################\n",
    "# Insert code here:\n",
    "#################################################\n",
    "```\n",
    "\n",
    "Don't forget to click the **Apply** button and **start** the experiment if necessary. Also, click the **Save** button to save your changes in the state machine. That way, your changes won't get lost if the experiment was stopped and relaunched.\n",
    "\n",
    "## Transfer Functions editor - Moving the robot to a pre-swing pose - Neuron2Robot \n",
    "\n",
    "You should now have an experiment with balls that are being spawned and thrown in the direction of the iCub. We will first move the iCub to a proper swinging position. Since this concerns purely the robot, we implement this in a **transfer function (TF)**. \n",
    "\n",
    "Open the **NRP editors** again and select the **Transfer Functions** tab. Every function defined here is called at regular 20ms intervals.\n",
    "\n",
    "Start with the function **simple_move_robot**. This is a **Neuron2Robot** TF but does not listen to any brain neuron - it simply sends motor commands to the robot in open loop.\n",
    "Move the arm of the robot so that its hand hits the thrown balls.\n",
    "When you're done, click the **Save** button to save your changes in the TF.\n",
    "\n",
    "## Transfer Functions editor - Converting vision to brain activity - Robot2Neuron \n",
    "\n",
    "The robot has a brain of 20 sensor neurons and one motor neuron, connected all to all.\n",
    "You can see the brain code in the **Brain Editor**. You can also visualize the neurons and their activity with the **brain visualizer** in the toolbar.\n",
    "\n",
    "We want the camera images sensed by the robot to activate the sensor neurons. For this purpose, we will use a **Robot2Neuron** transfer function. Go to the function **grab_image** and activate the sensor neurons with respect to the difference in green values.\n",
    "When you're done, click the **Save** button to save your changes in the TF.\n",
    "\n",
    "You can see what the robot sees with the **generic image viewer** and the brain activity of a neuronal population with the **spiketrain**. The population displayed is defined in the **NeuronMonitor** transfer function and is set to the sensors population initially.\n",
    "\n",
    "## Transfer Functions editor - Converting brain activity to action - Neuron2Robot \n",
    "\n",
    "The input neurons should now spike with respect to the positive difference of green in images.\n",
    "We now want to make the robot arm swing with respect to the motor neuron activation. Implement the **Neuron2Robot** transfer function, here named **swing**.\n",
    "When you're done, click the **Save** button to save your changes in the TF.\n",
    "\n",
    "## Environment editor - build a nicer environment\n",
    "\n",
    "Open the **environment editor** and select **Furniture**. Add a ping pong trainer robot and place it approximately at the origin of the ball's trajectory (you might have to move the trainer below ground).\n",
    "Assemble enclosing walls using **Concrete Wall** and **Wood Wall** in **Construction**. You can use the **snap** option in the **object inspector** to move walls around and snap them to other wall parts.\n",
    "\n",
    "## Stop your simulation\n",
    "\n",
    "Click on the stop button to close the simulation. You do not need to save your changes since we will start from a fresh copy in the next exercise.\n"
   ]
  },
  {
   "cell_type": "markdown",
   "metadata": {},
   "source": [
    "# Exercise 2: Offline analysis and optimization with virtual coach\n",
    "\n",
    "In the first exercise, you interactively built your experiment so that it works with some hardcoded parameters.\n",
    "In this exercise, we will run the experiment offline with the **Virtual Coach** to:\n",
    "* Visualize some data\n",
    "* Optimize some hardcoded parameters\n",
    "You will see that the **Virtual Coach** has an API that replaces everything you did mannually in the first exercise: launch an experiment, start it, add a transfer function, set the brain,...\n",
    "\n",
    "For this part of the notebook, you will need some extra libraries:\n",
    "```\n",
    "pip install --user pandas matplotlib\n",
    "```\n",
    "\n",
    "We will launch the same experiment you were modifying in Exercise 1."
   ]
  },
  {
   "cell_type": "code",
   "execution_count": null,
   "metadata": {},
   "outputs": [],
   "source": [
    "# disable global logging from the virtual coach\n",
    "import logging\n",
    "logging.disable(logging.INFO)\n",
    "logging.getLogger('rospy').propagate = False\n",
    "logging.getLogger('rosout').propagate = False"
   ]
  },
  {
   "cell_type": "code",
   "execution_count": null,
   "metadata": {},
   "outputs": [],
   "source": [
    "# log into the virtual coach, update with your credentials\n",
    "try:\n",
    "    from hbp_nrp_virtual_coach.virtual_coach import VirtualCoach\n",
    "    vc = VirtualCoach(environment='local', storage_username='nrpuser')\n",
    "except ImportError as e:\n",
    "    print(e)\n",
    "    print(\"You have to start this notebook with the command:\\\n",
    "          cle-virtual-coach jupyter notebook\")\n",
    "    raise e"
   ]
  },
  {
   "cell_type": "markdown",
   "metadata": {},
   "source": [
    "## First steps with the Virtual Coach\n",
    "\n",
    "The virtual coach launch experiments return a well-documented simulation object with which you can interact:"
   ]
  },
  {
   "cell_type": "code",
   "execution_count": null,
   "metadata": {},
   "outputs": [],
   "source": [
    "sim = vc.launch_experiment('tutorial_baseball_exercise_0')"
   ]
  },
  {
   "cell_type": "code",
   "execution_count": null,
   "metadata": {},
   "outputs": [],
   "source": [
    "methods = [method for method in dir(sim) if not method.startswith('_')]\n",
    "print('Available method on the simulation object:\\n{}'.format('\\n'.join(methods)))"
   ]
  },
  {
   "cell_type": "code",
   "execution_count": null,
   "metadata": {},
   "outputs": [],
   "source": [
    "sim.register_status_callback?"
   ]
  },
  {
   "cell_type": "markdown",
   "metadata": {},
   "source": [
    "If you have the frontend running, you can see that there is a running instance of this experiment if you click on it.\n",
    "You can stop the experiment either with the frontend or with the virtual coach:"
   ]
  },
  {
   "cell_type": "code",
   "execution_count": null,
   "metadata": {},
   "outputs": [],
   "source": [
    "sim.stop()"
   ]
  },
  {
   "cell_type": "markdown",
   "metadata": {},
   "source": [
    "## Visualization and optimization\n",
    "\n",
    "In the coming cells, you will have to use the virtual coach to optimize a metric by running the expriments multiple times.\n",
    "\n",
    "Specifically, we will try to find the best synaptic weight between the input and the output populations.\n",
    "The objective we try to maximize is the absolute **x** position of the ball (the ball is fired in the negative **x** direction, c.f. the StateMachine).\n",
    "\n",
    "For this purpose we need:\n",
    "1. the brain to be parametrizable\n",
    "2. a way to access data from the experiment (the ball position)"
   ]
  },
  {
   "cell_type": "markdown",
   "metadata": {},
   "source": [
    "### The brain\n",
    "\n",
    "Here is the brain file from the **tutorial_baseball_exercise**. Note that the synaptic weight is replaced with the template parameter **{syn_weight}**:"
   ]
  },
  {
   "cell_type": "code",
   "execution_count": null,
   "metadata": {},
   "outputs": [],
   "source": [
    "brain_template = '''\n",
    "# -*- coding: utf-8 -*-\n",
    "\"\"\"\n",
    "Tutorial brain for the baseball experiment\n",
    "\"\"\"\n",
    "\n",
    "# pragma: no cover\n",
    "__author__ = 'Jacques Kaiser'\n",
    "\n",
    "from hbp_nrp_cle.brainsim import simulator as sim\n",
    "import numpy as np\n",
    "\n",
    "n_sensors = 20\n",
    "n_motors = 1\n",
    "\n",
    "sensors = sim.Population(n_sensors, cellclass=sim.IF_curr_exp())\n",
    "motors = sim.Population(n_motors, cellclass=sim.IF_curr_exp())\n",
    "sim.Projection(sensors, motors, sim.AllToAllConnector(),\n",
    "               sim.StaticSynapse(weight={syn_weight}))\n",
    "'''"
   ]
  },
  {
   "cell_type": "markdown",
   "metadata": {},
   "source": [
    "### The (additional) transfer function\n",
    "\n",
    "To record data from the experiment, we add a special type of transfer functions: **MapCSVRecorder**..\n",
    "You could also add this transfer functions as a python file in the cloned experiment's directory **$HOME/.opt/nrpStorage/tutorial_baseball_exercise_0** and reference it in the **.bibi**, the results would be identical."
   ]
  },
  {
   "cell_type": "code",
   "execution_count": null,
   "metadata": {},
   "outputs": [],
   "source": [
    "record_ball_tf = \\\n",
    "'''\n",
    "# Imported Python Transfer Function\n",
    "import numpy as np\n",
    "import sensor_msgs.msg\n",
    "\n",
    "@nrp.MapCSVRecorder(\"ball_recorder\", filename=\"ball_position.csv\",\n",
    "                    headers=[\"Time\", \"px\", \"py\", \"pz\"])\n",
    "@nrp.Robot2Neuron()\n",
    "def record_ball_csv(t, ball_recorder):\n",
    "    from rospy import ServiceProxy\n",
    "    from gazebo_msgs.srv import GetModelState\n",
    "\n",
    "    model_name = 'ball'\n",
    "    state_proxy = ServiceProxy('/gazebo/get_model_state',\n",
    "                                    GetModelState, persistent=False)\n",
    "    ball_state = state_proxy(model_name, \"world\")\n",
    "\n",
    "    if ball_state.success:\n",
    "        current_position = ball_state.pose.position\n",
    "        ball_recorder.record_entry(t,\n",
    "                                   current_position.x, \n",
    "                                   current_position.y, \n",
    "                                   current_position.z)\n",
    "'''"
   ]
  },
  {
   "cell_type": "markdown",
   "metadata": {},
   "source": [
    "## Running the experiment with default synaptic weight\n",
    "\n",
    "Run the experiment with the default synaptic weight, and save the resulting CSV file"
   ]
  },
  {
   "cell_type": "code",
   "execution_count": null,
   "metadata": {},
   "outputs": [],
   "source": [
    "sim.get_csv_data?"
   ]
  },
  {
   "cell_type": "code",
   "execution_count": null,
   "metadata": {
    "scrolled": true
   },
   "outputs": [],
   "source": [
    "import csv\n",
    "import tempfile\n",
    "import time\n",
    "import os\n",
    "\n",
    "# this name has to match the name passed in the CSV transfer function\n",
    "csv_name = 'ball_position.csv'\n",
    "    \n",
    "def save_position_csv(sim, datadir):\n",
    "    with open(os.path.join(datadir, csv_name), 'wb') as f:\n",
    "        cf = csv.writer(f)\n",
    "        #################################################\n",
    "        # Insert code here:\n",
    "        # get the CSV data from the simulation\n",
    "        #################################################\n",
    "        cf.writerows(csv_data)\n",
    "    \n",
    "# The function make_on_status() returns a on_status() function\n",
    "# This is called a \"closure\": \n",
    "# it is here used to pass the sim and datadir objects to on_status()\n",
    "def make_on_status(sim, datadir):\n",
    "    def on_status(msg):\n",
    "        print(\"Current simulation time: {}\".format(msg['simulationTime']))\n",
    "        if msg['simulationTime'] == 5.0 and sim.get_state() == 'started':\n",
    "            #################################################\n",
    "            # Insert code here:\n",
    "            # 1) pause the simulation, \n",
    "            # 2) save the CSV file\n",
    "            # 3) stop the simulation\n",
    "            #################################################\n",
    "            print(\"Trial terminated - saved CSV in {}\".format(datadir))\n",
    "            \n",
    "    return on_status\n",
    "        \n",
    "def run_experiment(datadir, brain_params={'syn_weight': 1.0}):\n",
    "    #################################################\n",
    "    # Insert code here:\n",
    "    # 1) launch the experiment\n",
    "    # 2) add the status callback\n",
    "    # 3) add the parametrized brain file\n",
    "    # 4) add the extra CSV TF\n",
    "    # 5) start the simulation\n",
    "    #################################################\n",
    "    brain_file = brain_template.format(**brain_params)\n",
    "    \n",
    "    return sim\n",
    "    \n",
    "tmp_folder = tempfile.mkdtemp()\n",
    "sim=run_experiment(datadir=tmp_folder)"
   ]
  },
  {
   "cell_type": "markdown",
   "metadata": {},
   "source": [
    "If everything went fine, the csv data got saved to a **tempdir** in your **/tmp/**:"
   ]
  },
  {
   "cell_type": "code",
   "execution_count": null,
   "metadata": {},
   "outputs": [],
   "source": [
    "csv_file = os.path.join(tmp_folder, csv_name)\n",
    "print(\"Recorded the following csv file: {}\".format(csv_file))"
   ]
  },
  {
   "cell_type": "markdown",
   "metadata": {},
   "source": [
    "## Plotting the CSV data\n",
    "\n",
    "Let's use [pandas](http://pandas.pydata.org/) to read the csv file, create dataframes and plot it.\n",
    "You will need to install pandas:\n",
    "\n",
    "```bash\n",
    "pip install pandas\n",
    "```\n",
    "\n",
    "Let's read the csv file with pandas:"
   ]
  },
  {
   "cell_type": "code",
   "execution_count": null,
   "metadata": {
    "scrolled": true
   },
   "outputs": [],
   "source": [
    "import pandas\n",
    "ball_csv = pandas.read_csv(csv_file)[['Time', 'px', 'py', 'pz']]\n",
    "ball_csv"
   ]
  },
  {
   "cell_type": "code",
   "execution_count": null,
   "metadata": {},
   "outputs": [],
   "source": [
    "%matplotlib inline\n",
    "ball_csv=ball_csv.set_index('Time')\n",
    "ball_csv.plot()"
   ]
  },
  {
   "cell_type": "markdown",
   "metadata": {},
   "source": [
    "You can see that ball position is initially high when the ball is created, it then decreases until it hits the robot."
   ]
  },
  {
   "cell_type": "markdown",
   "metadata": {},
   "source": [
    "## Optimizing the synaptic weight\n",
    "\n",
    "We define the objective function as being the accumulated **x** position. Let's run many trials with different synaptic weights and see the evolution of accumulated **x** position. For example, with this current trial of synaptic weight 1.0, the accumulated **x** is:"
   ]
  },
  {
   "cell_type": "code",
   "execution_count": null,
   "metadata": {},
   "outputs": [],
   "source": [
    "ball_csv.px.sum()"
   ]
  },
  {
   "cell_type": "markdown",
   "metadata": {},
   "source": [
    "Run the experiment again with different synaptic weights and plot the results."
   ]
  },
  {
   "cell_type": "code",
   "execution_count": null,
   "metadata": {},
   "outputs": [],
   "source": [
    "import numpy as np\n",
    "n_trials = 2\n",
    "trial_weights = np.linspace(0., 1.5, n_trials)\n",
    "trial_ball_csv = [tempfile.mkdtemp() for i in range(n_trials)]\n",
    "#################################################\n",
    "# Insert code here:\n",
    "# 1) run the experiments with all the trial_weights\n",
    "# 2) compute the fitness of each trial\n",
    "# 3) plot your results\n",
    "#################################################\n"
   ]
  },
  {
   "cell_type": "markdown",
   "metadata": {},
   "source": [
    "## Going further\n",
    "\n",
    "In this second exercise, you saw how to run the same experiment many times to optimize a single synaptic weight.\n",
    "Despite that the experiment was simple, you can keep the same workflow for your use case:\n",
    "* Try to optimize different metric by recording different data in your CSV\n",
    "* Try to optimize different parameters (e.g., many synaptic weights or learning rules hyperparameters)\n",
    "* Try to use a different optimization algorithm (evolution strategy, ...)"
   ]
  }
 ],
 "metadata": {
  "kernelspec": {
   "display_name": "Python 2",
   "language": "python",
   "name": "python2"
  },
  "language_info": {
   "codemirror_mode": {
    "name": "ipython",
    "version": 2
   },
   "file_extension": ".py",
   "mimetype": "text/x-python",
   "name": "python",
   "nbconvert_exporter": "python",
   "pygments_lexer": "ipython2",
   "version": "2.7.12"
  }
 },
 "nbformat": 4,
 "nbformat_minor": 2
}
