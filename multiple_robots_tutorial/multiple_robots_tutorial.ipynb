{
 "cells": [
  {
   "cell_type": "markdown",
   "metadata": {},
   "source": [
    "# NRP Tutorial: Multiple Robots\n",
    "\n",
    "Welcome to this turorial. By following this notebook step by step, you will learn how to work with the Neurorobotics Platform.\n",
    "\n",
    "The following notebook will guide you through setting up an experiment interactively. The experiment involves processing sensory inputs, camera images and laser scans, that will feed small neural networks. Networks responses will be turned into motor commands so as to get some desired behaviours, namely color recognition and obstacle avoidance."
   ]
  },
  {
   "cell_type": "markdown",
   "metadata": {},
   "source": [
    "# Get started\n",
    "\n",
    "Start the NRP with the following commands:\n",
    "```shell\n",
    "cle-nginx\n",
    "cle-start\n",
    "cle-frontend\n",
    "```\n",
    "and launch the experiment **multiple Robots Tutorial**.\n",
    "The experiment contains an iCub Robot (humanoid robot) and two Pioneer 3DX robots (two-wheeled robots) in an empty world. \n",
    "\n",
    "Click the play button. You should see two motionless Pioneer 3DX robots and a still iCub robot.\n",
    "\n",
    "Press the eye icon of the toolbar: you should see what the iCub sees.\n",
    "\n",
    "# Exercise 1: Color recognition\n",
    "\n",
    "The goal of this exercise is to understand the basics of connecting a brain model to a robot model.\n",
    "At the end, the iCub robot will be able to recognize the color of the robots turning around him and to react accordingly.\n",
    "\n",
    "\n",
    "## Transfer Functions editor - basic control of the P3DX robots \n",
    "\n",
    "We will bring the Pioneer 3DX robots into life by means of two basic controllers implemented as Transfer Functions.\n",
    "\n",
    "Open the **NRP editors** and select the **Transfer Functions** tab.\n",
    "Every function defined here are called at regular 20ms intervals.\n",
    "\n",
    "Press the **New** button to create a new Transfer Function. Remove the content of the default function and paste the following snippet"
   ]
  },
  {
   "cell_type": "code",
   "execution_count": null,
   "metadata": {
    "collapsed": true
   },
   "outputs": [],
   "source": [
    "from hbp_nrp_cle.robotsim.RobotInterface import Topic\n",
    "import geometry_msgs.msg\n",
    "\n",
    "@nrp.Neuron2Robot(Topic('/red_pioneer3dx/cmd_vel', geometry_msgs.msg.Twist))\n",
    "def turn_around_red_p3dx(t):\n",
    "    return geometry_msgs.msg.Twist(linear=geometry_msgs.msg.Vector3(1.0,0,0),\n",
    "                                   angular=geometry_msgs.msg.Vector3(0,0,0.25))"
   ]
  },
  {
   "cell_type": "markdown",
   "metadata": {},
   "source": [
    "Repeat the same operation with this other snippet"
   ]
  },
  {
   "cell_type": "code",
   "execution_count": null,
   "metadata": {
    "collapsed": true
   },
   "outputs": [],
   "source": [
    "from hbp_nrp_cle.robotsim.RobotInterface import Topic\n",
    "import geometry_msgs.msg\n",
    "\n",
    "@nrp.Neuron2Robot(Topic('/green_pioneer3dx/cmd_vel', geometry_msgs.msg.Twist))\n",
    "def turn_around_green_p3dx(t):\n",
    "    return geometry_msgs.msg.Twist(linear=geometry_msgs.msg.Vector3(1.0,0,0),\n",
    "                                   angular=geometry_msgs.msg.Vector3(0,0,0.25))"
   ]
  },
  {
   "cell_type": "markdown",
   "metadata": {},
   "source": [
    "Press the **Apply** button of each Transfer Function and press the play button if needed.\n",
    "\n",
    "## Brain editor - read how the iCub brain is defined \n",
    "Open the **NRP editors** again and select the **Brain** tab. \n",
    "\n",
    "The PyNN script you read defines neuron populations.\n",
    "In this experiment, the iCub brain has only 4 neurons separated. The first two neurons, that is icub_input_left and icub_input_right, are the *sensor neurons*. We will provide them with stimuli based on the camera images. \n",
    "Each is connected to a *motor neuron* whose membrane voltage will be used to generate arms motion.\n",
    "\n",
    "\n",
    "## Transfer Functions editor - shaping sensory input for the iCub network\n",
    "Open the **NRP editors** again and select the **Transfer Functions** tab.\n",
    "Press the **New** button to create a new Transfer Function. Remove the content of the default function and paste the following snippet"
   ]
  },
  {
   "cell_type": "code",
   "execution_count": null,
   "metadata": {
    "collapsed": true
   },
   "outputs": [],
   "source": [
    "import hbp_nrp_cle.tf_framework as nrp\n",
    "\n",
    "@nrp.MapRobotSubscriber(\"camera\", Topic('/icub_model/left_eye_camera/image_raw', sensor_msgs.msg.Image))\n",
    "@nrp.MapSpikeSource(\"left_input_neuron\", nrp.brain.icub_input_left[0], nrp.poisson)\n",
    "@nrp.MapSpikeSource(\"right_input_neuron\", nrp.brain.icub_input_right[0], nrp.poisson)\n",
    "@nrp.Robot2Neuron()\n",
    "def eye_sensor_transmit(t, camera, left_input_neuron, right_input_neuron):\n",
    "    \"\"\"\n",
    "    This transfer function uses OpenCV to compute the amount of red and green pixels\n",
    "    seen by the iCub robot. Then, it maps these numbers\n",
    "    (see decorators) to the neural network neurons using a Poisson generator.\n",
    "    \"\"\"\n",
    "    bridge = CvBridge()\n",
    "    red_pixels = green_pixels = 0.0\n",
    "    if not isinstance(camera.value, type(None)):\n",
    "\n",
    "        # Boundary limits of what we consider red (in HSV format)\n",
    "        lower_red = np.array([0, 30, 30])\n",
    "        upper_red = np.array([0, 255, 255])\n",
    "        # Boundary limits of what we consider green (in HSV format)\n",
    "        lower_green = np.array([55, 30, 30])\n",
    "        upper_green = np.array([65, 255, 255])\n",
    "\n",
    "        # Get an OpenCV image\n",
    "        cv_image = bridge.imgmsg_to_cv2(camera.value, \"rgb8\")\n",
    "\n",
    "        # Transform image to HSV (easier to detect colors).\n",
    "        hsv_image = cv2.cvtColor(cv_image, cv2.COLOR_RGB2HSV)\n",
    "\n",
    "        # Create a mask where every non red pixel will be a zero.\n",
    "        red_mask = cv2.inRange(hsv_image, lower_red, upper_red)\n",
    "        green_mask = cv2.inRange(hsv_image, lower_green, upper_green)\n",
    "        image_size = (cv_image.shape[0] * cv_image.shape[1])\n",
    "\n",
    "        if (image_size > 0):\n",
    "            # Get the number of red and green pixels in the image.\n",
    "            red_pixels = cv2.countNonZero(red_mask)\n",
    "            green_pixels = cv2.countNonZero(green_mask)\n",
    "            \n",
    "            # We magnify the pixel numbers so as to \n",
    "            # create enough spikes for motor response\n",
    "            magnitude = 0.25\n",
    "            left_input_neuron.rate = magnitude * red_pixels\n",
    "            right_input_neuron.rate = magnitude * green_pixels\n",
    "                \n"
   ]
  },
  {
   "cell_type": "markdown",
   "metadata": {},
   "source": [
    "Let us have a close look at image_processing.py.\n",
    "\n",
    "The camera image of the iCub is processed to extract color components. These color components, that is the amount of red and green pixels, are turned into firing rates. Thus the sensor neurons will spike whenever a sufficiently large part of the image is red or green.\n",
    "\n",
    "## Brain Visualizer and Spike Monitor: watch iCub's neural activity\n",
    "\n",
    "Open the **Brain Visualizer** (*brain icon* in the toolbar) to display the whole network in 3D.\n",
    "Unselect alls populations except iCub ones.\n",
    "\n",
    "Open the **Spike Monitor** (*bar code icon* in the toolbar) to display spike trains.\n",
    "\n",
    "Change the synaptic weights and see how spike rates are impacted.\n",
    "\n",
    "Don't forget to click the **Apply** button and **start** the experiment if necessary.\n",
    "\n",
    "Change the **magnitude** factor at the bottom of the script, and see how the network behaves.\n",
    "\n",
    "\n",
    "## Transfer Functions editor - Actuating iCub arms \n",
    "\n",
    "We are going to bring the iCub into life. The following snippet turns membrane voltages of iCub's output neurons into\n",
    "motor commands. The iCub will raise the left arm whenever he sees a red robot, the right arm whenever he sees a green robot.\n",
    "\n",
    "Open the **NRP editors** again and select the **Transfer Functions** tab. Create a new Transfer Function by pressing the **New** button. Erase the default python code and replace it by the following snippet."
   ]
  },
  {
   "cell_type": "code",
   "execution_count": null,
   "metadata": {
    "collapsed": true
   },
   "outputs": [],
   "source": [
    "import hbp_nrp_cle.tf_framework as nrp\n",
    "from hbp_nrp_cle.robotsim.RobotInterface import Topic\n",
    "import geometry_msgs.msg\n",
    "\n",
    "@nrp.MapSpikeSink(\"left_output_neuron\", nrp.brain.icub_output_left[0], nrp.leaky_integrator_alpha)\n",
    "@nrp.MapSpikeSink(\"right_output_neuron\", nrp.brain.icub_output_right[0], nrp.leaky_integrator_alpha)\n",
    "@nrp.MapRobotPublisher('l_shoulder_roll', Topic('/robot/l_shoulder_roll/pos', std_msgs.msg.Float64))\n",
    "@nrp.MapRobotPublisher('l_shoulder_pitch', Topic('/robot/l_shoulder_pitch/pos', std_msgs.msg.Float64))\n",
    "@nrp.MapRobotPublisher('l_shoulder_yaw', Topic('/robot/l_shoulder_yaw/pos', std_msgs.msg.Float64))\n",
    "@nrp.MapRobotPublisher('l_elbow', Topic('/robot/l_elbow/pos', std_msgs.msg.Float64))\n",
    "@nrp.MapRobotPublisher('r_shoulder_roll', Topic('/robot/r_shoulder_roll/pos', std_msgs.msg.Float64))\n",
    "@nrp.MapRobotPublisher('r_shoulder_pitch', Topic('/robot/r_shoulder_pitch/pos', std_msgs.msg.Float64))\n",
    "@nrp.MapRobotPublisher('r_shoulder_yaw', Topic('/robot/r_shoulder_yaw/pos', std_msgs.msg.Float64))\n",
    "@nrp.MapRobotPublisher('r_elbow', Topic('/robot/r_elbow/pos', std_msgs.msg.Float64))\n",
    "@nrp.MapVariable(\"left_leak\", initial_value=1)\n",
    "@nrp.MapVariable(\"right_leak\", initial_value=1)\n",
    "@nrp.Neuron2Robot()\n",
    "def icub_control(t, left_output_neuron, right_output_neuron,\n",
    "    l_shoulder_roll, l_shoulder_pitch, l_shoulder_yaw, l_elbow, \n",
    "    r_shoulder_roll, r_shoulder_pitch, r_shoulder_yaw, r_elbow, left_leak, right_leak):\n",
    "    \n",
    "    def wave_hand(side, roll, pitch, yaw, elbow):\n",
    "        if side == 1:\n",
    "            r_shoulder_roll.send_message(std_msgs.msg.Float64(roll))\n",
    "            r_shoulder_pitch.send_message(std_msgs.msg.Float64(pitch))\n",
    "            r_shoulder_yaw.send_message(std_msgs.msg.Float64(yaw))\n",
    "            r_elbow.send_message(std_msgs.msg.Float64(elbow))\n",
    "        elif side == -1:\n",
    "            l_shoulder_roll.send_message(std_msgs.msg.Float64(roll))\n",
    "            l_shoulder_pitch.send_message(std_msgs.msg.Float64(pitch))\n",
    "            l_shoulder_yaw.send_message(std_msgs.msg.Float64(yaw))\n",
    "            l_elbow.send_message(std_msgs.msg.Float64(elbow))\n",
    "\n",
    "    def actuate_arm(side, voltage, leak):\n",
    "        elbow = 1.5\n",
    "        threshold = 0.02\n",
    "        if voltage > threshold:\n",
    "            wave_hand(side, 1.7, -1.1, 0., elbow)\n",
    "            return 0.0\n",
    "        else:\n",
    "            leak_inc = 0.007\n",
    "            leak = leak + leak_inc\n",
    "            if leak > 1.0:\n",
    "                leak = 1.0\n",
    "            r = 1 - leak\n",
    "            wave_hand(side, 1.7 * r, -1.1 * r, 0., elbow)\n",
    "            return leak\n",
    "    \n",
    "    left_leak.value = actuate_arm(-1, left_output_neuron.voltage, left_leak.value)\n",
    "    right_leak.value = actuate_arm(1, right_output_neuron.voltage, right_leak.value)\n"
   ]
  },
  {
   "cell_type": "markdown",
   "metadata": {},
   "source": [
    "Press the **Apply** button, and also the play button if needed.\n",
    "\n",
    "Change the **threshold** value. How does it affect the iCub behaviour?\n",
    "\n",
    "Change the **leak** increment **leak_inc** to 0.01, then to 0.001. How does it impact the arm waving motion? "
   ]
  },
  {
   "cell_type": "markdown",
   "metadata": {},
   "source": [
    "# Exercise 2: Obstacle avoidance based on laser scans\n",
    "\n",
    "The goal of this exercise is to implement an obstacle avoidance behaviour for the red Pioneer 3DX robot. We will use the laser scans of the onboard Hoyuko device to feed the sensor neurons of the Pioneer 3DX brain model."
   ]
  },
  {
   "cell_type": "markdown",
   "metadata": {
    "collapsed": true
   },
   "source": [
    "## Transfer Functions Editor: collect and handle laser scans\n",
    "\n",
    "Open the **NRP editors** again and select the **Transfer Functions** tab. Create a new Transfer Function by pressing the **New** button. Erase the default python code and replace it by the following snippet."
   ]
  },
  {
   "cell_type": "code",
   "execution_count": null,
   "metadata": {
    "collapsed": true
   },
   "outputs": [],
   "source": [
    "@nrp.MapRobotSubscriber(\"laser\", Topic('/p3dx_red/laser/scan', sensor_msgs.msg.LaserScan))\n",
    "@nrp.MapSpikeSource(\"red_laser_on\", nrp.map_neurons(range(0, 45), lambda i: nrp.brain.red_laser_on[i]), nrp.dc_source)\n",
    "@nrp.MapSpikeSource(\"red_laser_off\", nrp.map_neurons(range(0, 45), lambda i: nrp.brain.red_laser_off[i]), nrp.dc_source)\n",
    "@nrp.Robot2Neuron()\n",
    "def read_red_laser(t, laser, red_laser_on, red_laser_off):\n",
    "    if laser.value is not None:\n",
    "        weights = [x != float('inf') and x < 0.5 for x in laser.value.ranges]\n",
    "        for i in xrange(45):\n",
    "            red_laser_on[i].amplitude = 0.5 * weights[8*i:8*(i+1)].count(True)\n",
    "            red_laser_off[i].amplitude = 0.5 * weights[8*i:8*(i+1)].count(False)"
   ]
  },
  {
   "cell_type": "markdown",
   "metadata": {},
   "source": [
    "Press the **Apply** button, and also the play button if needed."
   ]
  },
  {
   "cell_type": "markdown",
   "metadata": {
    "collapsed": true
   },
   "source": [
    "## Brain Visualizer and Spike Monitor: watch Pioneer 3DX's neural activity\n",
    "\n",
    "Open the **Brain Visualizer** by pressing on the *brain icon* on the toolbar. Unselect the iCub populations.\n",
    "Open the **Spike Monitor** by pressing on the *bar code icon*. \n",
    "\n",
    "Pause the simulation and put your favorite object in front of the red Pioneer 3DX. To do so, open the **NRP editors** and select the **Environment editor** tab.\n",
    "\n",
    "Then watch the neural activity in the above visualization widgets."
   ]
  },
  {
   "cell_type": "markdown",
   "metadata": {},
   "source": [
    "## Transfer Functions Editor: enabling obstacle avoidance on the Pioneer 3DX\n",
    "\n",
    "Open the **NRP editors** again and select the **Transfer Functions** tab. Create a new Transfer Function by pressing the **New** button. Erase the default python code and replace it by the following snippet."
   ]
  },
  {
   "cell_type": "code",
   "execution_count": 5,
   "metadata": {
    "collapsed": true
   },
   "outputs": [],
   "source": [
    "from hbp_nrp_cle.robotsim.RobotInterface import Topic\n",
    "import geometry_msgs.msg\n",
    "\n",
    "@nrp.MapSpikeSink(\"red_fw\", nrp.brain.red_fw[0], nrp.leaky_integrator_alpha)\n",
    "@nrp.MapSpikeSink(\"red_bw\", nrp.brain.red_bw[0], nrp.leaky_integrator_alpha)\n",
    "@nrp.MapSpikeSink(\"red_left\", nrp.brain.red_left[0], nrp.leaky_integrator_alpha)\n",
    "@nrp.MapSpikeSink(\"red_right\", nrp.brain.red_right[0], nrp.leaky_integrator_alpha)\n",
    "@nrp.Neuron2Robot(Topic('/red_pioneer3dx/cmd_vel', geometry_msgs.msg.Twist))\n",
    "def turn_around_red_p3dx(t, red_fw, red_bw, red_left, red_right):\n",
    "    return geometry_msgs.msg.Twist(linear=geometry_msgs.msg.Vector3(15 * red_fw.voltage if red_bw.voltage < 0.03 else  -8 * red_bw.voltage,0,0),\n",
    "                                       angular=geometry_msgs.msg.Vector3(0,0, (100 * (red_right.voltage - red_left.voltage)) if (red_right.voltage > 0.5 or red_left.voltage > 0.5) else 0.02))"
   ]
  },
  {
   "cell_type": "markdown",
   "metadata": {},
   "source": [
    "Remove the former turn_around_red.py and turn_around_green.py Transfer Functions.\n",
    "Press the **Apply** button, and also the play button if needed.\n",
    "Pause the simulation and put an object in front of the red Pioneer 3DX. \n",
    "Press play and observe the behaviour of the red Pioneer 3DX. \n",
    "Open the **Brain Visualizer** and the **Spike Monitor** to monitor brain activity while the Pioneer robot is performing is task.\n",
    "\n",
    "## Replicate the obstacle avoidance algorithm for the red Pioneer 3DX\n",
    "\n",
    "Create new Transfer Functions for the green Pioneer 3DX robot so that it behaves just like the red one.\n",
    "You may need to open the **Brain Editor** to get the corresponding population names."
   ]
  }
 ],
 "metadata": {
  "kernelspec": {
   "display_name": "Python 2",
   "language": "python",
   "name": "python2"
  },
  "language_info": {
   "codemirror_mode": {
    "name": "ipython",
    "version": 2
   },
   "file_extension": ".py",
   "mimetype": "text/x-python",
   "name": "python",
   "nbconvert_exporter": "python",
   "pygments_lexer": "ipython2",
   "version": "2.7.12"
  }
 },
 "nbformat": 4,
 "nbformat_minor": 2
}
